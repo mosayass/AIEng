{
  "nbformat": 4,
  "nbformat_minor": 0,
  "metadata": {
    "colab": {
      "provenance": [],
      "authorship_tag": "ABX9TyM+7+tveUe8D3rEbKH69RYv"
    },
    "kernelspec": {
      "name": "python3",
      "display_name": "Python 3"
    },
    "language_info": {
      "name": "python"
    }
  },
  "cells": [
    {
      "cell_type": "code",
      "execution_count": null,
      "metadata": {
        "colab": {
          "base_uri": "https://localhost:8080/",
          "height": 411
        },
        "id": "4GTdCftZsWTB",
        "outputId": "72f64e71-61e1-4270-f758-a8368decd64a"
      },
      "outputs": [
        {
          "output_type": "stream",
          "name": "stdout",
          "text": [
            "Collecting numpy==1.26.4\n",
            "  Downloading numpy-1.26.4-cp312-cp312-manylinux_2_17_x86_64.manylinux2014_x86_64.whl.metadata (61 kB)\n",
            "\u001b[?25l     \u001b[90m━━━━━━━━━━━━━━━━━━━━━━━━━━━━━━━━━━━━━━━━\u001b[0m \u001b[32m0.0/61.0 kB\u001b[0m \u001b[31m?\u001b[0m eta \u001b[36m-:--:--\u001b[0m\r\u001b[2K     \u001b[90m━━━━━━━━━━━━━━━━━━━━━━━━━━━━━━━━━━━━━━━━\u001b[0m \u001b[32m61.0/61.0 kB\u001b[0m \u001b[31m2.1 MB/s\u001b[0m eta \u001b[36m0:00:00\u001b[0m\n",
            "\u001b[?25hDownloading numpy-1.26.4-cp312-cp312-manylinux_2_17_x86_64.manylinux2014_x86_64.whl (18.0 MB)\n",
            "\u001b[2K   \u001b[90m━━━━━━━━━━━━━━━━━━━━━━━━━━━━━━━━━━━━━━━━\u001b[0m \u001b[32m18.0/18.0 MB\u001b[0m \u001b[31m74.4 MB/s\u001b[0m eta \u001b[36m0:00:00\u001b[0m\n",
            "\u001b[?25hInstalling collected packages: numpy\n",
            "  Attempting uninstall: numpy\n",
            "    Found existing installation: numpy 2.0.2\n",
            "    Uninstalling numpy-2.0.2:\n",
            "      Successfully uninstalled numpy-2.0.2\n",
            "\u001b[31mERROR: pip's dependency resolver does not currently take into account all the packages that are installed. This behaviour is the source of the following dependency conflicts.\n",
            "opencv-contrib-python 4.12.0.88 requires numpy<2.3.0,>=2; python_version >= \"3.9\", but you have numpy 1.26.4 which is incompatible.\n",
            "thinc 8.3.6 requires numpy<3.0.0,>=2.0.0, but you have numpy 1.26.4 which is incompatible.\n",
            "opencv-python-headless 4.12.0.88 requires numpy<2.3.0,>=2; python_version >= \"3.9\", but you have numpy 1.26.4 which is incompatible.\n",
            "opencv-python 4.12.0.88 requires numpy<2.3.0,>=2; python_version >= \"3.9\", but you have numpy 1.26.4 which is incompatible.\u001b[0m\u001b[31m\n",
            "\u001b[0mSuccessfully installed numpy-1.26.4\n"
          ]
        },
        {
          "output_type": "display_data",
          "data": {
            "application/vnd.colab-display-data+json": {
              "pip_warning": {
                "packages": [
                  "numpy"
                ]
              },
              "id": "626ba94c841b46c49a29eeeddb99f974"
            }
          },
          "metadata": {}
        }
      ],
      "source": [
        "!pip install numpy==1.26.4\n"
      ]
    },
    {
      "cell_type": "code",
      "source": [
        "import numpy as np # import Numpy library to generate\n",
        "\n",
        "weights = np.around(np.random.uniform(size=6), decimals=2) # initialize the weights\n",
        "biases = np.around(np.random.uniform(size=3), decimals=2) # initialize the biases"
      ],
      "metadata": {
        "id": "P_7C2ck4sYuw"
      },
      "execution_count": null,
      "outputs": []
    },
    {
      "cell_type": "code",
      "source": [
        "print(weights)\n",
        "print(biases)"
      ],
      "metadata": {
        "colab": {
          "base_uri": "https://localhost:8080/"
        },
        "id": "lBXqirW7smUR",
        "outputId": "64dd3e7e-1c27-49a0-b23b-b22daa3718b9"
      },
      "execution_count": null,
      "outputs": [
        {
          "output_type": "stream",
          "name": "stdout",
          "text": [
            "[0.79 0.09 0.82 0.6  0.07 0.07]\n",
            "[0.89 0.44 0.02]\n"
          ]
        }
      ]
    },
    {
      "cell_type": "code",
      "source": [
        "x_1 = 0.5 # input 1\n",
        "x_2 = 0.85 # input 2\n",
        "\n",
        "print('x1 is {} and x2 is {}'.format(x_1, x_2))"
      ],
      "metadata": {
        "colab": {
          "base_uri": "https://localhost:8080/"
        },
        "id": "XBPpErn9so_E",
        "outputId": "33a29114-831d-4c66-ccba-8461dae4f5c6"
      },
      "execution_count": null,
      "outputs": [
        {
          "output_type": "stream",
          "name": "stdout",
          "text": [
            "x1 is 0.5 and x2 is 0.85\n"
          ]
        }
      ]
    },
    {
      "cell_type": "code",
      "source": [
        "z_11 = x_1 * weights[0] + x_2 * weights[1] + biases[0]\n",
        "\n",
        "print('The weighted sum of the inputs at the first node in the hidden layer is {}'.format(z_11))"
      ],
      "metadata": {
        "colab": {
          "base_uri": "https://localhost:8080/"
        },
        "id": "m7QEdl_RsxPC",
        "outputId": "7721f8c3-233e-4838-e806-6d62d8be4217"
      },
      "execution_count": null,
      "outputs": [
        {
          "output_type": "stream",
          "name": "stdout",
          "text": [
            "The weighted sum of the inputs at the first node in the hidden layer is 1.3615\n"
          ]
        }
      ]
    },
    {
      "cell_type": "code",
      "source": [
        "z_12=x_1 *weights[2] +x_2 *weights[3] +biases[1]\n",
        "print('The weighted sum of the inputs at the first node in the hidden layer is {}'.format(np.around(z_12, decimals=4)))"
      ],
      "metadata": {
        "colab": {
          "base_uri": "https://localhost:8080/"
        },
        "id": "gNeG6qOTs8Vc",
        "outputId": "9ba9dc82-c87f-4853-802b-90abdf3025a8"
      },
      "execution_count": null,
      "outputs": [
        {
          "output_type": "stream",
          "name": "stdout",
          "text": [
            "The weighted sum of the inputs at the first node in the hidden layer is 1.36\n"
          ]
        }
      ]
    },
    {
      "cell_type": "code",
      "source": [
        "a_11 = 1.0 / (1.0 + np.exp(-z_11))\n",
        "\n",
        "print('The activation of the first node in the hidden layer is {}'.format(np.around(a_11, decimals=4)))"
      ],
      "metadata": {
        "colab": {
          "base_uri": "https://localhost:8080/"
        },
        "id": "I6TZ9J4oteqD",
        "outputId": "a796505c-ed30-4e00-88c2-11dcfdeb3331"
      },
      "execution_count": null,
      "outputs": [
        {
          "output_type": "stream",
          "name": "stdout",
          "text": [
            "The activation of the first node in the hidden layer is 0.796\n"
          ]
        }
      ]
    },
    {
      "cell_type": "code",
      "source": [
        "a_12 = 1.0 / (1.0 + np.exp(-z_12))\n",
        "\n",
        "print('The activation of the first node in the hidden layer is {}'.format(np.around(a_12, decimals=4)))"
      ],
      "metadata": {
        "colab": {
          "base_uri": "https://localhost:8080/"
        },
        "id": "sQYS8jY_tsN-",
        "outputId": "3954b6e1-bf95-4d1f-888d-17a4c73adae8"
      },
      "execution_count": null,
      "outputs": [
        {
          "output_type": "stream",
          "name": "stdout",
          "text": [
            "The activation of the first node in the hidden layer is 0.7958\n"
          ]
        }
      ]
    },
    {
      "cell_type": "code",
      "source": [
        "z_2 = a_11 * weights[4] + a_12 * weights[5] + biases[2]\n",
        "\n",
        "print('The weighted sum of the inputs at the first node in the hidden layer is {}'.format(np.around(z_2, decimals=4)))"
      ],
      "metadata": {
        "colab": {
          "base_uri": "https://localhost:8080/"
        },
        "id": "Er8JdgLHt5Ph",
        "outputId": "4868d5dc-5a7b-4311-8f85-d507b69ede2a"
      },
      "execution_count": null,
      "outputs": [
        {
          "output_type": "stream",
          "name": "stdout",
          "text": [
            "The weighted sum of the inputs at the first node in the hidden layer is 0.1314\n"
          ]
        }
      ]
    },
    {
      "cell_type": "code",
      "source": [
        "a_2 = 1.0 / (1.0 + np.exp(-z_2))\n",
        "\n",
        "print('The output of the network for x1 = 0.5 and x2 = 0.85 is {}'.format(np.around(a_2, decimals=4)))"
      ],
      "metadata": {
        "colab": {
          "base_uri": "https://localhost:8080/"
        },
        "id": "M8fMYiyZuos1",
        "outputId": "3ac958ad-839d-448b-f09f-293ce43ec889"
      },
      "execution_count": null,
      "outputs": [
        {
          "output_type": "stream",
          "name": "stdout",
          "text": [
            "The output of the network for x1 = 0.5 and x2 = 0.85 is 0.5328\n"
          ]
        }
      ]
    },
    {
      "cell_type": "code",
      "source": [
        "n = 2 # number of inputs\n",
        "num_hidden_layers = 2 # number of hidden layers\n",
        "m = [2, 2] # number of nodes in each hidden layer\n",
        "num_nodes_output = 1 # number of nodes in the output layer"
      ],
      "metadata": {
        "id": "u6E10fP7u1IE"
      },
      "execution_count": null,
      "outputs": []
    },
    {
      "cell_type": "code",
      "source": [
        "import numpy as np # import the Numpy library\n",
        "\n",
        "num_nodes_previous = n # number of nodes in the previous layer\n",
        "\n",
        "network = {} # initialize network an an empty dictionary\n",
        "\n",
        "# loop through each layer and randomly initialize the weights and biases associated with each node\n",
        "# notice how we are adding 1 to the number of hidden layers in order to include the output layer\n",
        "for layer in range(num_hidden_layers + 1):\n",
        "\n",
        "    # determine name of layer\n",
        "    if layer == num_hidden_layers:\n",
        "        layer_name = 'output'\n",
        "        num_nodes = num_nodes_output\n",
        "    else:\n",
        "        layer_name = 'layer_{}'.format(layer + 1)\n",
        "        num_nodes = m[layer]\n",
        "\n",
        "    # initialize weights and biases associated with each node in the current layer\n",
        "    network[layer_name] = {}\n",
        "    for node in range(num_nodes):\n",
        "        node_name = 'node_{}'.format(node+1)\n",
        "        network[layer_name][node_name] = {\n",
        "            'weights': np.around(np.random.uniform(size=num_nodes_previous), decimals=2),\n",
        "            'bias': np.around(np.random.uniform(size=1), decimals=2),\n",
        "        }\n",
        "\n",
        "    num_nodes_previous = num_nodes\n",
        "\n",
        "print(network) # print network"
      ],
      "metadata": {
        "colab": {
          "base_uri": "https://localhost:8080/"
        },
        "id": "9UbypAw-vTsx",
        "outputId": "f82905b8-9b35-4b90-f7f0-226c6e0f1e5e"
      },
      "execution_count": null,
      "outputs": [
        {
          "output_type": "stream",
          "name": "stdout",
          "text": [
            "{'layer_1': {'node_1': {'weights': array([0.69, 0.21]), 'bias': array([0.84])}, 'node_2': {'weights': array([0.85, 0.98]), 'bias': array([0.39])}}, 'layer_2': {'node_1': {'weights': array([0.22, 0.14]), 'bias': array([0.46])}, 'node_2': {'weights': array([0.66, 0.97]), 'bias': array([0.2])}}, 'output': {'node_1': {'weights': array([0.49, 0.07]), 'bias': array([0.82])}}}\n"
          ]
        }
      ]
    },
    {
      "cell_type": "code",
      "source": [
        "def initialize_network(num_inputs, num_hidden_layers, num_nodes_hidden, num_nodes_output):\n",
        "\n",
        "    num_nodes_previous = num_inputs # number of nodes in the previous layer\n",
        "\n",
        "    network = {}\n",
        "\n",
        "    # loop through each layer and randomly initialize the weights and biases associated with each layer\n",
        "    for layer in range(num_hidden_layers + 1):\n",
        "\n",
        "        if layer == num_hidden_layers:\n",
        "            layer_name = 'output' # name last layer in the network output\n",
        "            num_nodes = num_nodes_output\n",
        "        else:\n",
        "            layer_name = 'layer_{}'.format(layer + 1) # otherwise give the layer a number\n",
        "            num_nodes = num_nodes_hidden[layer]\n",
        "\n",
        "        # initialize weights and bias for each node\n",
        "        network[layer_name] = {}\n",
        "        for node in range(num_nodes):\n",
        "            node_name = 'node_{}'.format(node+1)\n",
        "            network[layer_name][node_name] = {\n",
        "                'weights': np.around(np.random.uniform(size=num_nodes_previous), decimals=2),\n",
        "                'bias': np.around(np.random.uniform(size=1), decimals=2),\n",
        "            }\n",
        "\n",
        "        num_nodes_previous = num_nodes\n",
        "\n",
        "    return network # return the network"
      ],
      "metadata": {
        "id": "XdLk-X0avLKH"
      },
      "execution_count": null,
      "outputs": []
    },
    {
      "cell_type": "code",
      "source": [
        "small_network= initialize_network(5,3,[3,2,3],1)"
      ],
      "metadata": {
        "id": "YYSqwAsuwuXD"
      },
      "execution_count": null,
      "outputs": []
    },
    {
      "cell_type": "code",
      "source": [
        "def compute_weighted_sum(inputs, weights, bias):\n",
        "    return np.sum(inputs * weights) + bias\n"
      ],
      "metadata": {
        "id": "xO8rIIUJxFPE"
      },
      "execution_count": null,
      "outputs": []
    },
    {
      "cell_type": "code",
      "source": [
        "from random import seed\n",
        "import numpy as np\n",
        "\n",
        "np.random.seed(12)\n",
        "inputs = np.around(np.random.uniform(size=5), decimals=2)\n",
        "\n",
        "print('The inputs to the network are {}'.format(inputs))"
      ],
      "metadata": {
        "colab": {
          "base_uri": "https://localhost:8080/"
        },
        "id": "9Qj5-akcxOXG",
        "outputId": "e43b313d-678b-43f7-fdf2-3aec75410ed2"
      },
      "execution_count": null,
      "outputs": [
        {
          "output_type": "stream",
          "name": "stdout",
          "text": [
            "The inputs to the network are [0.15 0.74 0.26 0.53 0.01]\n"
          ]
        }
      ]
    },
    {
      "cell_type": "code",
      "source": [
        "node_weights = small_network['layer_1']['node_1']['weights']\n",
        "node_bias = small_network['layer_1']['node_1']['bias']\n",
        "\n",
        "weighted_sum = compute_weighted_sum(inputs, node_weights, node_bias)\n",
        "print('The weighted sum at the first node in the hidden layer is {}'.format(np.around(weighted_sum[0], decimals=4)))"
      ],
      "metadata": {
        "colab": {
          "base_uri": "https://localhost:8080/"
        },
        "id": "yTVfF6I7xTR3",
        "outputId": "a396a28c-9a2a-4a26-9947-283dc90ef689"
      },
      "execution_count": null,
      "outputs": [
        {
          "output_type": "stream",
          "name": "stdout",
          "text": [
            "The weighted sum at the first node in the hidden layer is 1.2901\n"
          ]
        }
      ]
    },
    {
      "cell_type": "code",
      "source": [
        "def node_activation(weighted_sum):\n",
        "    return 1.0 / (1.0 + np.exp(-1 * weighted_sum))"
      ],
      "metadata": {
        "id": "EjOcD-t9yHJq"
      },
      "execution_count": null,
      "outputs": []
    },
    {
      "cell_type": "code",
      "source": [
        "### type your answer here\n",
        "node_output =node_activation(compute_weighted_sum(inputs,node_weights,node_bias))\n",
        "print('The output of the first node in the hidden layer is {}'.format(np.around(node_output[0], decimals=4)))\n",
        "\n"
      ],
      "metadata": {
        "colab": {
          "base_uri": "https://localhost:8080/"
        },
        "id": "BdLXZqaByTJC",
        "outputId": "49ce936a-60b9-4db5-da46-ab74f08c6c53"
      },
      "execution_count": null,
      "outputs": [
        {
          "output_type": "stream",
          "name": "stdout",
          "text": [
            "The output of the first node in the hidden layer is 0.7842\n"
          ]
        }
      ]
    },
    {
      "cell_type": "code",
      "source": [
        "def forward_propagate(network, inputs):\n",
        "\n",
        "    layer_inputs = list(inputs) # start with the input layer as the input to the first hidden layer\n",
        "\n",
        "    for layer in network:\n",
        "\n",
        "        layer_data = network[layer]\n",
        "\n",
        "        layer_outputs = []\n",
        "        for layer_node in layer_data:\n",
        "\n",
        "            node_data = layer_data[layer_node]\n",
        "\n",
        "            # compute the weighted sum and the output of each node at the same time\n",
        "            node_output = node_activation(compute_weighted_sum(layer_inputs, node_data['weights'], node_data['bias']))\n",
        "            layer_outputs.append(np.around(node_output[0], decimals=4))\n",
        "\n",
        "        if layer != 'output':\n",
        "            print('The outputs of the nodes in hidden layer number {} is {}'.format(layer.split('_')[1], layer_outputs))\n",
        "\n",
        "        layer_inputs = layer_outputs # set the output of this layer to be the input to next layer\n",
        "\n",
        "    network_predictions = layer_outputs\n",
        "    return network_predictions"
      ],
      "metadata": {
        "id": "c79m8vrEyk_M"
      },
      "execution_count": null,
      "outputs": []
    },
    {
      "cell_type": "code",
      "source": [
        "forward_propagate(small_network, inputs)"
      ],
      "metadata": {
        "colab": {
          "base_uri": "https://localhost:8080/"
        },
        "id": "X_cwtCZ6zDOd",
        "outputId": "eec7c63f-e816-433f-ecb9-ae4295f2b269"
      },
      "execution_count": null,
      "outputs": [
        {
          "output_type": "stream",
          "name": "stdout",
          "text": [
            "The outputs of the nodes in hidden layer number 1 is [0.7842, 0.6099, 0.8374]\n",
            "The outputs of the nodes in hidden layer number 2 is [0.8735, 0.9023]\n",
            "The outputs of the nodes in hidden layer number 3 is [0.8894, 0.8842, 0.7066]\n"
          ]
        },
        {
          "output_type": "execute_result",
          "data": {
            "text/plain": [
              "[0.8534]"
            ]
          },
          "metadata": {},
          "execution_count": 24
        }
      ]
    },
    {
      "cell_type": "code",
      "source": [
        "my_network = initialize_network(5, 3, [2, 3, 2], 3)\n"
      ],
      "metadata": {
        "id": "lqtXiU4wzWno"
      },
      "execution_count": null,
      "outputs": []
    },
    {
      "cell_type": "code",
      "source": [
        "inputs = np.around(np.random.uniform(size=5), decimals=2)"
      ],
      "metadata": {
        "id": "_tLORQJwzlm6"
      },
      "execution_count": null,
      "outputs": []
    },
    {
      "cell_type": "code",
      "source": [
        "predictions = forward_propagate(my_network, inputs)\n",
        "print('The predicted values by the network for the given input are {}'.format(predictions))"
      ],
      "metadata": {
        "colab": {
          "base_uri": "https://localhost:8080/"
        },
        "id": "jcNrY21AznfW",
        "outputId": "74f3feac-ff18-4263-8844-9c7d035466ec"
      },
      "execution_count": null,
      "outputs": [
        {
          "output_type": "stream",
          "name": "stdout",
          "text": [
            "The outputs of the nodes in hidden layer number 1 is [0.8857, 0.8889]\n",
            "The outputs of the nodes in hidden layer number 2 is [0.7822, 0.6965, 0.7411]\n",
            "The outputs of the nodes in hidden layer number 3 is [0.868, 0.881]\n",
            "The predicted values by the network for the given input are [0.8952, 0.8222, 0.8035]\n"
          ]
        }
      ]
    },
    {
      "cell_type": "code",
      "source": [],
      "metadata": {
        "id": "1_qVFSEtzqn5"
      },
      "execution_count": null,
      "outputs": []
    }
  ]
}